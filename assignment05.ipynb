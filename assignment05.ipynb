{
 "cells": [
  {
   "cell_type": "code",
   "execution_count": 1,
   "metadata": {
    "scrolled": true
   },
   "outputs": [
    {
     "name": "stdout",
     "output_type": "stream",
     "text": [
      "5040\n"
     ]
    }
   ],
   "source": [
    "def find_factorial(num):\n",
    "    factorial = 1\n",
    "    if num<0:\n",
    "        print(0)\n",
    "    elif num == 0:\n",
    "        print(1)\n",
    "    else:\n",
    "        for a in range(factorial,num+1):\n",
    "            factorial = factorial* a\n",
    "        print(factorial)\n",
    "   \n",
    "find_factorial(7)"
   ]
  },
  {
   "cell_type": "code",
   "execution_count": 2,
   "metadata": {
    "scrolled": true
   },
   "outputs": [
    {
     "name": "stdout",
     "output_type": "stream",
     "text": [
      "Total Upper letters:  2\n",
      "Total Lower Letters:  27\n"
     ]
    }
   ],
   "source": [
    "def upper_letters(name):\n",
    "    flag = 0\n",
    "    for letter in name:\n",
    "        if ord(letter)>=65 and ord(letter)<=90:\n",
    "            flag +=1\n",
    "    return flag\n",
    "            \n",
    "def lower_letters(name):\n",
    "    flag = 0\n",
    "    for letter in name:\n",
    "        if ord(letter)>=97 and ord(letter)<=122:\n",
    "            flag +=1\n",
    "    return flag\n",
    "name = \"I am doing programming with Python\"    \n",
    "print(\"Total Upper letters: \",upper_letters(name))\n",
    "print(\"Total Lower Letters: \",lower_letters(name))"
   ]
  },
  {
   "cell_type": "code",
   "execution_count": 3,
   "metadata": {
    "scrolled": true
   },
   "outputs": [
    {
     "name": "stdout",
     "output_type": "stream",
     "text": [
      "6\n",
      "0\n",
      "4\n"
     ]
    }
   ],
   "source": [
    "def even_numbers(num_list):\n",
    "    for num in num_list:\n",
    "        if num%2 == 0:\n",
    "            print(num)\n",
    "\n",
    "numbers = [1,33,53,5,6,5,0,4]\n",
    "even_numbers(numbers)"
   ]
  },
  {
   "cell_type": "code",
   "execution_count": 4,
   "metadata": {
    "scrolled": true
   },
   "outputs": [
    {
     "name": "stdout",
     "output_type": "stream",
     "text": [
      "nun\n",
      "Palindrome\n"
     ]
    }
   ],
   "source": [
    "def check_palindrome(pharse):\n",
    "    rev_pharse = \"\"\n",
    "    for letter in pharse:\n",
    "        rev_pharse=letter+rev_pharse\n",
    "    print(rev_pharse)\n",
    "    if pharse == rev_pharse:\n",
    "        return True\n",
    "        \n",
    "arg = \"nun\"\n",
    "if check_palindrome(arg):\n",
    "    print(\"Palindrome\")\n",
    "else:\n",
    "    print(\"Not Palindrome\")"
   ]
  },
  {
   "cell_type": "code",
   "execution_count": 5,
   "metadata": {
    "scrolled": true
   },
   "outputs": [
    {
     "name": "stdout",
     "output_type": "stream",
     "text": [
      "2 3 5 7 11 13 17 19 23 29 31 37 41 43 47 53 59 61 67 71 73 79 83 89 97 "
     ]
    }
   ],
   "source": [
    "def check_prime(num):\n",
    "  \n",
    "   for i in range(1, num):\n",
    "       if(num ==2 or num == 3):\n",
    "           return True\n",
    "       elif(num%2 ==0 or num%3 == 0):\n",
    "           return False\n",
    "       \n",
    "       elif(num ==5 or num == 7):\n",
    "           return True\n",
    "       elif(num%5 ==0 or num%7 == 0):\n",
    "           return False\n",
    "       \n",
    "       else:\n",
    "           return True\n",
    "     \n",
    "for i in range(1, 100):\n",
    "    if check_prime(i + 1):\n",
    "        print(i + 1, end=\" \")"
   ]
  },
  {
   "cell_type": "code",
   "execution_count": 6,
   "metadata": {
    "scrolled": true
   },
   "outputs": [
    {
     "name": "stdout",
     "output_type": "stream",
     "text": [
      "Please enter shopping list products or enter 0 to end:=\n",
      "Please enter shopping list: Potato\n",
      "Please enter shopping list: Onion\n",
      "Please enter shopping list: Carrot\n",
      "Please enter shopping list: 0\n",
      "\n",
      "Your entered Shopping List Items\n",
      "=================================\n",
      "\n",
      "Item# 1: Potato\n",
      "\n",
      "Item# 2: Onion\n",
      "\n",
      "Item# 3: Carrot\n",
      "\n"
     ]
    }
   ],
   "source": [
    "def products():\n",
    "    market_products = []\n",
    "    while market_products !=0:\n",
    "            product = input(\"Please enter shopping list: \")\n",
    "            if product == \"0\":\n",
    "                break\n",
    "            else:\n",
    "                market_products.append(product)\n",
    "    print(\"\\nYour entered Shopping List Items\\n=================================\\n\")            \n",
    "    item = 1\n",
    "    for product in market_products:\n",
    "        print(\"Item# \"+str(item)+\": \"+product+\"\\n\")\n",
    "        item +=1\n",
    "    \n",
    "print(\"Please enter shopping list products or enter 0 to end:=\")\n",
    "products()"
   ]
  }
 ],
 "metadata": {
  "kernelspec": {
   "display_name": "Python 3",
   "language": "python",
   "name": "python3"
  },
  "language_info": {
   "codemirror_mode": {
    "name": "ipython",
    "version": 3
   },
   "file_extension": ".py",
   "mimetype": "text/x-python",
   "name": "python",
   "nbconvert_exporter": "python",
   "pygments_lexer": "ipython3",
   "version": "3.7.4"
  }
 },
 "nbformat": 4,
 "nbformat_minor": 2
}
