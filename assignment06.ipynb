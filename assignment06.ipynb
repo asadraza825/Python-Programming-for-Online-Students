{
 "cells": [
  {
   "cell_type": "markdown",
   "metadata": {},
   "source": [
    "Object orient programming is programming paradiam in which program is organized in  classes and objects. Objects contrains class atributes and methods."
   ]
  },
  {
   "cell_type": "markdown",
   "metadata": {},
   "source": [
    "1.\tOOP is used to model to real world objects into abstract objects\n",
    "2.\tOOP is used for code reusability\n",
    "3.\tOOP provides modular way to manage programs\n",
    "4.\tIt provides abstraction to users and developers\n",
    "5.\tModifying code written in OOP is easy and fast.\n"
   ]
  },
  {
   "cell_type": "markdown",
   "metadata": {},
   "source": [
    "1.\tFunction is mostly used in modular and functional programming model and method is used in OOP\n",
    "2.\tFunction can be called with function name. Method can be with method name associated with object\n",
    "3.\tFunction is key feature of modular programming and method is key feature of OOP\n",
    "4.\tFunctions called independently. Method can be defined in class in OOP only can be called with class object\n"
   ]
  },
  {
   "cell_type": "markdown",
   "metadata": {},
   "source": [
    "Class: Class is blueprint where class attributes and behaviors are defined.\n",
    "Object: Object is instance of class. It has separate memory allocation.  It contains class attributes and methods. \n",
    "Attribute: Attribute is data defined in class. It defines the properties of the class. Such as Class Car have attributes Color, Model, Engine, and Company.\n",
    "Behavior: Behavior is action or activity of class. Behavior of class have defined in methods. Human class have behaviors such as walking, talking, smiling, eating and running. \n"
   ]
  },
  {
   "cell_type": "code",
   "execution_count": 2,
   "metadata": {},
   "outputs": [
    {
     "name": "stdout",
     "output_type": "stream",
     "text": [
      "Car name: Mehran\n",
      "Car model: 2018\n",
      "Car color: White\n",
      "Car company: Suzuki\n",
      "Car engine: 800\n",
      "Car speed: High Speed\n",
      "Car break: Awasome\n",
      "\n",
      "==============================\n",
      "\n",
      "Car name: Cultus\n",
      "Car model: 2015\n",
      "Car color: Blue\n",
      "Car company: Suzuki\n",
      "Car engine: 1200\n",
      "Car speed: High Speed\n",
      "Car break: Awasome\n",
      "\n",
      "==============================\n",
      "\n",
      "Car name: Civic\n",
      "Car model: 2019\n",
      "Car color: Back\n",
      "Car company: Honda\n",
      "Car engine: 1800\n",
      "Car speed: High Speed\n",
      "Car break: Awasome\n",
      "\n",
      "==============================\n",
      "\n",
      "Car name: Alto\n",
      "Car model: 2017\n",
      "Car color: Black\n",
      "Car company: Suzuki\n",
      "Car engine: 1000\n",
      "Car speed: High Speed\n",
      "Car break: Awasome\n",
      "\n",
      "==============================\n",
      "\n",
      "Car name: Corrolola\n",
      "Car model: 2019\n",
      "Car color: White\n",
      "Car company: Toyota\n",
      "Car engine: 1800\n",
      "Car speed: High Speed\n",
      "Car break: Awasome\n"
     ]
    }
   ],
   "source": [
    "class Car:\n",
    "    \n",
    "    def __init__(self,name,model,color,company,engine):\n",
    "        self.model = model\n",
    "        self.color = color\n",
    "        self.company = company\n",
    "        self.engine = engine\n",
    "        self.name = name\n",
    "    \n",
    "    def speed(self,speed):\n",
    "        self.speed = speed\n",
    "\n",
    "    def breaks(self,breaks):\n",
    "        self.breaks = breaks\n",
    "    \n",
    "    def car_desc(self):\n",
    "        print(\"Car name: \"+self.name)\n",
    "        print(\"Car model: \"+str(self.model))\n",
    "        print(\"Car color: \"+self.color)\n",
    "        print(\"Car company: \"+self.company)\n",
    "        print(\"Car engine: \"+str(self.engine))\n",
    "        print(\"Car speed: \"+self.speed)\n",
    "        print(\"Car break: \"+self.breaks)\n",
    "        \n",
    "        \n",
    "        \n",
    "car1 = Car(\"Mehran\",2018,\"White\",\"Suzuki\",800)\n",
    "car1.breaks(\"Awasome\")\n",
    "car1.speed(\"High Speed\")\n",
    "car1.car_desc()\n",
    "print(\"\\n==============================\\n\")\n",
    "car2 = Car(\"Cultus\",2015,\"Blue\",\"Suzuki\",1200)\n",
    "car2.breaks(\"Awasome\")\n",
    "car2.speed(\"High Speed\")\n",
    "car2.car_desc()\n",
    "print(\"\\n==============================\\n\")\n",
    "car3 = Car(\"Civic\",2019,\"Back\",\"Honda\",1800)\n",
    "car3.breaks(\"Awasome\")\n",
    "car3.speed(\"High Speed\")\n",
    "car3.car_desc()\n",
    "print(\"\\n==============================\\n\")\n",
    "car4 = Car(\"Alto\",2017,\"Black\",\"Suzuki\",1000)\n",
    "car4.breaks(\"Awasome\")\n",
    "car4.speed(\"High Speed\")\n",
    "car4.car_desc()\n",
    "print(\"\\n==============================\\n\")\n",
    "car5 = Car(\"Corrolola\",2019,\"White\",\"Toyota\",1800)\n",
    "car5.breaks(\"Awasome\")\n",
    "car5.speed(\"High Speed\")\n",
    "car5.car_desc()"
   ]
  }
 ],
 "metadata": {
  "kernelspec": {
   "display_name": "Python 3",
   "language": "python",
   "name": "python3"
  },
  "language_info": {
   "codemirror_mode": {
    "name": "ipython",
    "version": 3
   },
   "file_extension": ".py",
   "mimetype": "text/x-python",
   "name": "python",
   "nbconvert_exporter": "python",
   "pygments_lexer": "ipython3",
   "version": "3.7.4"
  }
 },
 "nbformat": 4,
 "nbformat_minor": 2
}
