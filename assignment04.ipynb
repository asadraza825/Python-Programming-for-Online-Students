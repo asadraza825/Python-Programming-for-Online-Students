{
 "cells": [
  {
   "cell_type": "code",
   "execution_count": 6,
   "metadata": {},
   "outputs": [
    {
     "name": "stdout",
     "output_type": "stream",
     "text": [
      "first_name:  asad\n",
      "last_name:  raza\n",
      "age:  25\n",
      "city:  karachi\n"
     ]
    }
   ],
   "source": [
    "info = {\n",
    "        \"first_name\" : \"asad\",\n",
    "        \"last_name\" : \"raza\",\n",
    "        \"age\": 25,\n",
    "        \"city\":\"karachi\"\n",
    "        }\n",
    "for key,val in info.items():\n",
    "    print(key+\": \",val)\n",
    "info['qualification'] = \"BSIT\"\n",
    "del info['qualification']"
   ]
  },
  {
   "cell_type": "code",
   "execution_count": 7,
   "metadata": {},
   "outputs": [
    {
     "name": "stdout",
     "output_type": "stream",
     "text": [
      "==================\n",
      "Tokyo\n",
      "==================\n",
      "country: Japan\n",
      "population: 9\n",
      "fact: Tokyo known for extremely busy traffic public transportation\n",
      "==================\n",
      "Karachi\n",
      "==================\n",
      "country: Pakistan\n",
      "population: 14\n",
      "fact: It is called City of Lights and most populous city of Pakistan\n",
      "==================\n",
      "London\n",
      "==================\n",
      "country: United Kingdon\n",
      "population: 3\n",
      "fact: London is capital of England and United Kingdom\n"
     ]
    }
   ],
   "source": [
    "cities = {\n",
    "        \"tokyo\":{\n",
    "                \"country\" : \"Japan\",\n",
    "        \"population\": 9,\n",
    "        \"fact\":\"Tokyo known for extremely busy traffic public transportation\",\n",
    "                },\n",
    "        \n",
    "        \"karachi\":{\n",
    "        \"country\" : \"Pakistan\",\n",
    "        \"population\": 14,\n",
    "        \"fact\":\"It is called City of Lights and most populous city of Pakistan\",\n",
    "                },\n",
    "        \"London\":{\n",
    "                \"country\" : \"United Kingdon\",\n",
    "        \"population\": 3,\n",
    "        \"fact\":\"London is capital of England and United Kingdom\"\n",
    "                }\n",
    "        }\n",
    "for city,info in cities.items():\n",
    "        \n",
    "        print (\"==================\\n\"+city.title()+\"\\n==================\")\n",
    "        for key,val in info.items():\n",
    "            print(key+\": \"+str(val))"
   ]
  },
  {
   "cell_type": "code",
   "execution_count": 8,
   "metadata": {},
   "outputs": [
    {
     "name": "stdout",
     "output_type": "stream",
     "text": [
      "NOTE: If you want to end program enter 0\n",
      "=========================================\n",
      "Please enter your age: 6\n",
      "Ticket Price: 10\n",
      "Please enter your age: 5\n",
      "Ticket Price: 10\n",
      "Please enter your age: 2\n",
      "Ticket Price: 0\n",
      "Please enter your age: 18\n",
      "Ticket Price: 12\n",
      "Please enter your age: 0\n"
     ]
    }
   ],
   "source": [
    "print(\"NOTE: If you want to end program enter 0\\n=========================================\")\n",
    "action = True\n",
    "ticket_price = 0\n",
    "while action:\n",
    "    age = int(input(\"Please enter your age: \"))\n",
    "    if age == 0:\n",
    "        break\n",
    "    elif(age<3):\n",
    "        ticket_price = 0\n",
    "    elif(age>=3 and age<=12):\n",
    "        ticket_price = 10\n",
    "    else:\n",
    "        ticket_price = 12\n",
    "    print(\"Ticket Price: \"+str(ticket_price))"
   ]
  },
  {
   "cell_type": "code",
   "execution_count": 9,
   "metadata": {},
   "outputs": [
    {
     "name": "stdout",
     "output_type": "stream",
     "text": [
      "One of my favourite book is \"Data Science with Python\"\n"
     ]
    }
   ],
   "source": [
    "def book(book_name):\n",
    "    print(\"One of my favourite book is \\\"\"+book_name+\"\\\"\")\n",
    "book(\"Data Science with Python\")"
   ]
  },
  {
   "cell_type": "code",
   "execution_count": 10,
   "metadata": {},
   "outputs": [
    {
     "name": "stdout",
     "output_type": "stream",
     "text": [
      "Please enter number: 5\n",
      "Hint: Hidden number is greater than your entered number\n",
      "Please enter number: 5\n",
      "Hint: Hidden number is greater than your entered number\n",
      "Please enter number: 23\n",
      "Hint: Hidden number is smaller than your entered number\n"
     ]
    }
   ],
   "source": [
    "import random as rand\n",
    "rand_num = rand.randrange(1,30)\n",
    "for i in range(0,3):\n",
    "    num = int(input(\"Please enter number: \"))\n",
    "    if(num == rand_num):\n",
    "        print(\"You Win!\")\n",
    "        break\n",
    "    elif(rand_num>num):\n",
    "        print(\"Hint: Hidden number is greater than your entered number\")\n",
    "    elif(rand_num<num):\n",
    "        print(\"Hint: Hidden number is smaller than your entered number\")"
   ]
  },
  {
   "cell_type": "code",
   "execution_count": null,
   "metadata": {},
   "outputs": [],
   "source": []
  }
 ],
 "metadata": {
  "kernelspec": {
   "display_name": "Python 3",
   "language": "python",
   "name": "python3"
  },
  "language_info": {
   "codemirror_mode": {
    "name": "ipython",
    "version": 3
   },
   "file_extension": ".py",
   "mimetype": "text/x-python",
   "name": "python",
   "nbconvert_exporter": "python",
   "pygments_lexer": "ipython3",
   "version": "3.7.4"
  }
 },
 "nbformat": 4,
 "nbformat_minor": 2
}
