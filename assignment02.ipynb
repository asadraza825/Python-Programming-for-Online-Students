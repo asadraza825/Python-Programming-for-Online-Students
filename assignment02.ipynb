{
 "cells": [
  {
   "cell_type": "code",
   "execution_count": null,
   "metadata": {},
   "outputs": [],
   "source": [
    "grade = \"\";\n",
    "chem = int(input(\"please enter Chemistry marks: \"))\n",
    "comp = int(input(\"please enter Computer Science marks: \"))\n",
    "phy = int(input(\"please enter Physics marks: \"))\n",
    "eng = int(input(\"please enter English marks: \"))\n",
    "urd = int(input(\"please enter Urdu marks: \"))\n",
    "total_marks = 500\n",
    "obtained_marks = chem+comp+phy+eng+urd\n",
    "avg_marks = (obtained_marks*100)/total_marks\n",
    "print(\"\\nChemistry: \",chem)\n",
    "print(\"Computer Science: \",comp)\n",
    "print(\"Physics: \",phy)\n",
    "print(\"English: \",eng)\n",
    "print(\"Urdu: \",urd)\n",
    "if(avg_marks>80):\n",
    "    grade = \"A\"\n",
    "elif(avg_marks<80 and avg_marks>60):\n",
    "    grade = \"B\"\n",
    "elif(avg_marks<60 and avg_marks>50):\n",
    "    grade = \"C\"\n",
    "elif(avg_marks<50 and avg_marks>40):\n",
    "    grade = \"D\"\n",
    "else:\n",
    "    grade = \"Fail\"\n",
    "print(\"*****************************************************\")    \n",
    "print(\"TOTAL MARKS: \",total_marks)        \n",
    "print(\"OBTAINED MARKS: \",obtained_marks)\n",
    "print(\"AVERAGE MARKS: \",avg_marks)    \n",
    "print(\"Grade: \"+grade)"
   ]
  },
  {
   "cell_type": "code",
   "execution_count": null,
   "metadata": {},
   "outputs": [],
   "source": [
    "num = int(input(\"please enter number: \"))\n",
    "if(num%2 == 0):\n",
    "    print(\"Even\")\n",
    "else:\n",
    "    print(\"Odd\")"
   ]
  },
  {
   "cell_type": "code",
   "execution_count": 4,
   "metadata": {},
   "outputs": [
    {
     "name": "stdout",
     "output_type": "stream",
     "text": [
      "length:  5\n"
     ]
    }
   ],
   "source": [
    "names = [\"Asad\",\"Ali\",\"Ahmed\",\"Furqan\",\"Asim\"]\n",
    "print(\"length: \",len(names))"
   ]
  },
  {
   "cell_type": "code",
   "execution_count": 3,
   "metadata": {},
   "outputs": [
    {
     "name": "stdout",
     "output_type": "stream",
     "text": [
      "Sum is:  16\n"
     ]
    }
   ],
   "source": [
    "names = [3,3,3,1,6]\n",
    "print(\"Sum is: \",sum(names))"
   ]
  },
  {
   "cell_type": "code",
   "execution_count": 2,
   "metadata": {},
   "outputs": [
    {
     "name": "stdout",
     "output_type": "stream",
     "text": [
      "41\n"
     ]
    }
   ],
   "source": [
    "names = [13,3,41,11,6]\n",
    "names.sort()\n",
    "print(names[-1])        "
   ]
  },
  {
   "cell_type": "code",
   "execution_count": 1,
   "metadata": {},
   "outputs": [
    {
     "name": "stdout",
     "output_type": "stream",
     "text": [
      "1\n",
      "1\n",
      "3\n"
     ]
    }
   ],
   "source": [
    "list = [1, 1, 12, 3, 5, 8, 13, 21, 34, 55, 89]\n",
    "for num in list:\n",
    "    if(num<5):\n",
    "        print(num)"
   ]
  },
  {
   "cell_type": "code",
   "execution_count": null,
   "metadata": {},
   "outputs": [],
   "source": []
  }
 ],
 "metadata": {
  "kernelspec": {
   "display_name": "Python 3",
   "language": "python",
   "name": "python3"
  },
  "language_info": {
   "codemirror_mode": {
    "name": "ipython",
    "version": 3
   },
   "file_extension": ".py",
   "mimetype": "text/x-python",
   "name": "python",
   "nbconvert_exporter": "python",
   "pygments_lexer": "ipython3",
   "version": "3.7.4"
  }
 },
 "nbformat": 4,
 "nbformat_minor": 2
}
