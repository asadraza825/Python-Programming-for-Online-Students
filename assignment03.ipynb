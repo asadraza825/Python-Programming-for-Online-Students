{
 "cells": [
  {
   "cell_type": "code",
   "execution_count": null,
   "metadata": {},
   "outputs": [],
   "source": [
    "print(\" 1 = Addition (+)\\n 2 = Substraction(-) \\n 3 = Multiplication(*) \\n 4 = Division(/)\")\n",
    "operation = int(input(\"Please Enter NO. for Required Calculation :\"))\n",
    "if(operation >=1 and operation <=4):\n",
    "    ans = 0;5\n",
    "    n1 = int(input(\"Please Enter Number: \"))\n",
    "    n2 = int(input(\"Please Enter Another Number: \"))\n",
    "    if(operation == 1):\n",
    "        ans = n1 + n2\n",
    "    elif(operation == 2):\n",
    "            ans = n1 - n2\n",
    "    elif(operation == 3):\n",
    "            ans = n1 * n2\n",
    "    elif(operation == 4):\n",
    "            ans = n1 / n2\n",
    "    print(ans)\n",
    "else:\n",
    "    print(\"You have entered wrong NO. of Required Calculation\")"
   ]
  },
  {
   "cell_type": "code",
   "execution_count": null,
   "metadata": {},
   "outputs": [],
   "source": [
    "list = [\"auto\",1,\"mobile\",6,\"laptop\",35]\n",
    "for item in list:\n",
    "    if(type(item) == int):\n",
    "        print(item)"
   ]
  },
  {
   "cell_type": "code",
   "execution_count": null,
   "metadata": {},
   "outputs": [],
   "source": [
    "cust = {\"fname\": \"Asad\", \"lname\": \"Raza\", \"address\": \"Qasimabad\"}\n",
    "print(cust)\n",
    "cust['city'] = \"Hyderabad\"\n",
    "print(cust)"
   ]
  },
  {
   "cell_type": "code",
   "execution_count": null,
   "metadata": {},
   "outputs": [],
   "source": [
    "customer = {\"name\":\"Asad\",\"age\":25,\"city\":\"Hyderabad\",\"Sallary\":3000,\"service\":3}\n",
    "sum = 0;\n",
    "for key,val in customer.items():\n",
    "    if(type(val) == int):\n",
    "         sum+=val\n",
    "print(\"Total Sum of Numeric values: \",sum)"
   ]
  },
  {
   "cell_type": "code",
   "execution_count": null,
   "metadata": {},
   "outputs": [],
   "source": [
    "list = [\"auto\",1,\"auto\",\"laptop\",6,\"laptop\",35,43,1]\n",
    "duplicate = []\n",
    "for val in list:\n",
    "    if list.count(val)>1 and val not in duplicate:\n",
    "        duplicate.append(val)\n",
    "print(duplicate)"
   ]
  },
  {
   "cell_type": "code",
   "execution_count": null,
   "metadata": {},
   "outputs": [],
   "source": [
    "cust = {\"fname\": \"Asad\", \"lname\": \"Raza\", \"address\": \"Qasimabad\"}\n",
    "key = \"fname\"\n",
    "if key in cust:\n",
    "    print(\"Already exists\")\n",
    "else:\n",
    "    print(\"Not exists\")"
   ]
  },
  {
   "cell_type": "code",
   "execution_count": null,
   "metadata": {},
   "outputs": [],
   "source": []
  }
 ],
 "metadata": {
  "kernelspec": {
   "display_name": "Python 3",
   "language": "python",
   "name": "python3"
  },
  "language_info": {
   "codemirror_mode": {
    "name": "ipython",
    "version": 3
   },
   "file_extension": ".py",
   "mimetype": "text/x-python",
   "name": "python",
   "nbconvert_exporter": "python",
   "pygments_lexer": "ipython3",
   "version": "3.7.4"
  }
 },
 "nbformat": 4,
 "nbformat_minor": 2
}
